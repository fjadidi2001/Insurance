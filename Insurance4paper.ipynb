{
  "nbformat": 4,
  "nbformat_minor": 0,
  "metadata": {
    "colab": {
      "provenance": [],
      "gpuType": "T4",
      "authorship_tag": "ABX9TyNR82xUAzeL1+o7e8qqjNCO",
      "include_colab_link": true
    },
    "kernelspec": {
      "name": "python3",
      "display_name": "Python 3"
    },
    "language_info": {
      "name": "python"
    },
    "accelerator": "GPU"
  },
  "cells": [
    {
      "cell_type": "markdown",
      "metadata": {
        "id": "view-in-github",
        "colab_type": "text"
      },
      "source": [
        "<a href=\"https://colab.research.google.com/github/fjadidi2001/Insurance/blob/main/Insurance4paper.ipynb\" target=\"_parent\"><img src=\"https://colab.research.google.com/assets/colab-badge.svg\" alt=\"Open In Colab\"/></a>"
      ]
    },
    {
      "cell_type": "code",
      "source": [],
      "metadata": {
        "id": "1Zf3mQGEDVPS"
      },
      "execution_count": null,
      "outputs": []
    },
    {
      "cell_type": "code",
      "execution_count": 1,
      "metadata": {
        "colab": {
          "base_uri": "https://localhost:8080/",
          "height": 384
        },
        "id": "1Jf2pAisC_eR",
        "outputId": "a5f15fb5-d51a-4a4e-b682-eb2f1b85b177"
      },
      "outputs": [
        {
          "output_type": "error",
          "ename": "ModuleNotFoundError",
          "evalue": "No module named 'optuna'",
          "traceback": [
            "\u001b[0;31m---------------------------------------------------------------------------\u001b[0m",
            "\u001b[0;31mModuleNotFoundError\u001b[0m                       Traceback (most recent call last)",
            "\u001b[0;32m/tmp/ipython-input-1-731488899.py\u001b[0m in \u001b[0;36m<cell line: 0>\u001b[0;34m()\u001b[0m\n\u001b[1;32m     14\u001b[0m \u001b[0;32mfrom\u001b[0m \u001b[0mimblearn\u001b[0m\u001b[0;34m.\u001b[0m\u001b[0mcombine\u001b[0m \u001b[0;32mimport\u001b[0m \u001b[0mSMOTETomek\u001b[0m\u001b[0;34m\u001b[0m\u001b[0;34m\u001b[0m\u001b[0m\n\u001b[1;32m     15\u001b[0m \u001b[0;32mfrom\u001b[0m \u001b[0mlightgbm\u001b[0m \u001b[0;32mimport\u001b[0m \u001b[0mLGBMClassifier\u001b[0m\u001b[0;34m\u001b[0m\u001b[0;34m\u001b[0m\u001b[0m\n\u001b[0;32m---> 16\u001b[0;31m \u001b[0;32mimport\u001b[0m \u001b[0moptuna\u001b[0m\u001b[0;34m\u001b[0m\u001b[0;34m\u001b[0m\u001b[0m\n\u001b[0m\u001b[1;32m     17\u001b[0m \u001b[0;32mimport\u001b[0m \u001b[0mshap\u001b[0m\u001b[0;34m\u001b[0m\u001b[0;34m\u001b[0m\u001b[0m\n\u001b[1;32m     18\u001b[0m \u001b[0;32mimport\u001b[0m \u001b[0mlime\u001b[0m\u001b[0;34m.\u001b[0m\u001b[0mlime_tabular\u001b[0m\u001b[0;34m\u001b[0m\u001b[0;34m\u001b[0m\u001b[0m\n",
            "\u001b[0;31mModuleNotFoundError\u001b[0m: No module named 'optuna'",
            "",
            "\u001b[0;31m---------------------------------------------------------------------------\u001b[0;32m\nNOTE: If your import is failing due to a missing package, you can\nmanually install dependencies using either !pip or !apt.\n\nTo view examples of installing some common dependencies, click the\n\"Open Examples\" button below.\n\u001b[0;31m---------------------------------------------------------------------------\u001b[0m\n"
          ],
          "errorDetails": {
            "actions": [
              {
                "action": "open_url",
                "actionText": "Open Examples",
                "url": "/notebooks/snippets/importing_libraries.ipynb"
              }
            ]
          }
        }
      ],
      "source": [
        "import numpy as np\n",
        "import pandas as pd\n",
        "import matplotlib.pyplot as plt\n",
        "import seaborn as sns\n",
        "from sklearn.preprocessing import StandardScaler\n",
        "from sklearn.model_selection import train_test_split\n",
        "from sklearn.ensemble import GradientBoostingClassifier, StackingClassifier\n",
        "from sklearn.neural_network import MLPClassifier\n",
        "from sklearn.metrics import (\n",
        "    accuracy_score, precision_score, recall_score, f1_score,\n",
        "    roc_auc_score, matthews_corrcoef, confusion_matrix, roc_curve, precision_recall_curve\n",
        ")\n",
        "from sklearn.feature_selection import mutual_info_classif, SelectKBest\n",
        "from imblearn.combine import SMOTETomek\n",
        "from lightgbm import LGBMClassifier\n",
        "import optuna\n",
        "import shap\n",
        "import lime.lime_tabular\n",
        "from tensorflow.keras.layers import Input, Dense\n",
        "from tensorflow.keras.models import Model\n",
        "from sklearn.cluster import KMeans\n",
        "import tensorflow as tf\n",
        "\n",
        "# Set plotting style\n",
        "plt.style.use('seaborn')\n",
        "\n",
        "def load_and_eda(file_path):\n",
        "    # Load dataset\n",
        "    df = pd.read_csv(file_path)\n",
        "\n",
        "    # Basic info\n",
        "    print(\"Dataset Info:\")\n",
        "    print(df.info())\n",
        "    print(\"\\nMissing Values:\")\n",
        "    print(df.isnull().sum())\n",
        "\n",
        "    # Create target variable\n",
        "    df['ClaimYN'] = ((df['NB_Claim'] >= 1) & (df['AMT_Claim'] > 1000)).astype(int)\n",
        "\n",
        "    # EDA Visualizations\n",
        "    # 1. Class Distribution\n",
        "    plt.figure(figsize=(8, 6))\n",
        "    sns.countplot(x='ClaimYN', data=df)\n",
        "    plt.title('Distribution of ClaimYN')\n",
        "    plt.xlabel('Claim (0: No, 1: Yes)')\n",
        "    plt.ylabel('Count')\n",
        "    plt.show()\n",
        "\n",
        "    # 2. Numerical Features Distribution\n",
        "    numerical_cols = df.select_dtypes(include=['int64', 'float64']).columns\n",
        "    plt.figure(figsize=(15, 10))\n",
        "    for i, col in enumerate(numerical_cols[:6], 1):  # Show first 6 for brevity\n",
        "        plt.subplot(2, 3, i)\n",
        "        sns.histplot(df[col], bins=30)\n",
        "        plt.title(f'Distribution of {col}')\n",
        "    plt.tight_layout()\n",
        "    plt.show()\n",
        "\n",
        "    # 3. Correlation Heatmap\n",
        "    plt.figure(figsize=(12, 8))\n",
        "    sns.heatmap(df[numerical_cols].corr(), annot=False, cmap='coolwarm')\n",
        "    plt.title('Correlation Heatmap of Numerical Features')\n",
        "    plt.show()\n",
        "\n",
        "    # 4. Box Plots for Key Features vs ClaimYN\n",
        "    key_features = ['Insured.age', 'Car.age', 'Credit.score', 'Annual.miles.drive']\n",
        "    plt.figure(figsize=(15, 5))\n",
        "    for i, col in enumerate(key_features, 1):\n",
        "        plt.subplot(1, 4, i)\n",
        "        sns.boxplot(x='ClaimYN', y=col, data=df)\n",
        "        plt.title(f'{col} vs ClaimYN')\n",
        "    plt.tight_layout()\n",
        "    plt.show()\n",
        "\n",
        "    return df\n",
        "\n",
        "# Usage\n",
        "file_path = '/content/drive/My Drive/Insurance/telematics_syn.csv'\n",
        "df = load_and_eda(file_path)"
      ]
    }
  ]
}