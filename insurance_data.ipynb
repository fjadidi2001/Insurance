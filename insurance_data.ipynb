{
  "nbformat": 4,
  "nbformat_minor": 0,
  "metadata": {
    "colab": {
      "provenance": [],
      "authorship_tag": "ABX9TyMLiNSiCRuMJpVg20ENt5L6",
      "include_colab_link": true
    },
    "kernelspec": {
      "name": "python3",
      "display_name": "Python 3"
    },
    "language_info": {
      "name": "python"
    }
  },
  "cells": [
    {
      "cell_type": "markdown",
      "metadata": {
        "id": "view-in-github",
        "colab_type": "text"
      },
      "source": [
        "<a href=\"https://colab.research.google.com/github/fjadidi2001/Insurance/blob/main/result1.ipynb\" target=\"_parent\"><img src=\"https://colab.research.google.com/assets/colab-badge.svg\" alt=\"Open In Colab\"/></a>"
      ]
    },
    {
      "cell_type": "code",
      "execution_count": 3,
      "metadata": {
        "colab": {
          "base_uri": "https://localhost:8080/"
        },
        "id": "bYbBlsg5F4yM",
        "outputId": "9a878991-6fc1-4758-855c-b403c656ba2f"
      },
      "outputs": [
        {
          "output_type": "stream",
          "name": "stdout",
          "text": [
            "Path to dataset files: /root/.cache/kagglehub/datasets/aniketmane343/insurance-datacsv/versions/1\n"
          ]
        }
      ],
      "source": [
        "import kagglehub\n",
        "\n",
        "# Download latest version\n",
        "path = kagglehub.dataset_download(\"aniketmane343/insurance-datacsv\")\n",
        "\n",
        "print(\"Path to dataset files:\", path)"
      ]
    },
    {
      "cell_type": "code",
      "source": [
        "import os\n",
        "\n",
        "dataset_path = \"/root/.cache/kagglehub/datasets/aniketmane343/insurance-datacsv/versions/1\"\n",
        "files = os.listdir(dataset_path)\n",
        "print(\"Files in dataset directory:\", files)\n"
      ],
      "metadata": {
        "colab": {
          "base_uri": "https://localhost:8080/"
        },
        "id": "memasjgTjCsd",
        "outputId": "f18cd104-9ca5-4de9-fec4-0c29afc72d44"
      },
      "execution_count": 6,
      "outputs": [
        {
          "output_type": "stream",
          "name": "stdout",
          "text": [
            "Files in dataset directory: ['insurance_data.csv']\n"
          ]
        }
      ]
    },
    {
      "cell_type": "code",
      "source": [
        "import pandas as pd\n",
        "\n",
        "# Replace 'your_csv_file.csv' with the actual CSV file name\n",
        "file_path = f\"{path}/insurance_data.csv\"\n",
        "data = pd.read_csv(file_path)\n",
        "\n",
        "# Display the first few rows of the dataset\n",
        "print(data.head())\n"
      ],
      "metadata": {
        "colab": {
          "base_uri": "https://localhost:8080/"
        },
        "id": "SJ8QSBaAivIZ",
        "outputId": "6ed6fe63-5d06-4222-f005-7efc287cf1d2"
      },
      "execution_count": 7,
      "outputs": [
        {
          "output_type": "stream",
          "name": "stdout",
          "text": [
            "         TXN_DATE_TIME TRANSACTION_ID CUSTOMER_ID POLICY_NUMBER POLICY_EFF_DT  \\\n",
            "0  2020-06-01 00:00:00    TXN00000001   A00003822   PLC00008468    2015-06-23   \n",
            "1  2020-06-01 00:00:00    TXN00000002   A00008149   PLC00009594    2018-04-21   \n",
            "2  2020-06-01 00:00:00    TXN00000003   A00003172   PLC00007969    2019-10-03   \n",
            "3  2020-06-01 00:00:00    TXN00000004   A00007572   PLC00009292    2016-11-29   \n",
            "4  2020-06-01 00:00:00    TXN00000005   A00008173   PLC00000204    2011-12-26   \n",
            "\n",
            "      LOSS_DT   REPORT_DT INSURANCE_TYPE  PREMIUM_AMOUNT  CLAIM_AMOUNT  ...  \\\n",
            "0  2020-05-16  2020-05-21         Health          157.13          9000  ...   \n",
            "1  2020-05-13  2020-05-18       Property          141.71         26000  ...   \n",
            "2  2020-05-21  2020-05-26       Property          157.24         13000  ...   \n",
            "3  2020-05-14  2020-05-19         Health          172.87         16000  ...   \n",
            "4  2020-05-17  2020-05-22         Travel           88.53          3000  ...   \n",
            "\n",
            "  CLAIM_STATUS INCIDENT_SEVERITY AUTHORITY_CONTACTED ANY_INJURY  \\\n",
            "0            A        Major Loss              Police          0   \n",
            "1            A        Total Loss           Ambulance          1   \n",
            "2            A        Total Loss              Police          0   \n",
            "3            A        Minor Loss           Ambulance          0   \n",
            "4            A        Major Loss              Police          0   \n",
            "\n",
            "  POLICE_REPORT_AVAILABLE  INCIDENT_STATE   INCIDENT_CITY  \\\n",
            "0                       1              GA        Savannah   \n",
            "1                       0              AL      Montgomery   \n",
            "2                       1              CO  Grand Junction   \n",
            "3                       0              GA        Savannah   \n",
            "4                       1              TN       Nashville   \n",
            "\n",
            "  INCIDENT_HOUR_OF_THE_DAY    AGENT_ID  VENDOR_ID  \n",
            "0                        4  AGENT00413  VNDR00556  \n",
            "1                        0  AGENT00769  VNDR00592  \n",
            "2                       19  AGENT00883  VNDR00031  \n",
            "3                       12  AGENT00278  VNDR00075  \n",
            "4                       18  AGENT00636  VNDR00472  \n",
            "\n",
            "[5 rows x 38 columns]\n"
          ]
        }
      ]
    }
  ]
}
