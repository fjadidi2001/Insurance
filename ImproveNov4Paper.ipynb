{
  "cells": [
    {
      "cell_type": "markdown",
      "metadata": {
        "id": "view-in-github",
        "colab_type": "text"
      },
      "source": [
        "<a href=\"https://colab.research.google.com/github/fjadidi2001/Insurance/blob/main/ImproveNov4Paper.ipynb\" target=\"_parent\"><img src=\"https://colab.research.google.com/assets/colab-badge.svg\" alt=\"Open In Colab\"/></a>"
      ]
    },
    {
      "cell_type": "code",
      "execution_count": 1,
      "metadata": {
        "colab": {
          "base_uri": "https://localhost:8080/"
        },
        "id": "oAhJ67pY4Ey2",
        "outputId": "8c6c11c6-b9ec-4065-9229-107d9728012a"
      },
      "outputs": [
        {
          "output_type": "stream",
          "name": "stdout",
          "text": [
            "Mounted at /content/drive\n"
          ]
        }
      ],
      "source": [
        "from google.colab import drive\n",
        "drive.mount('/content/drive')"
      ]
    },
    {
      "cell_type": "code",
      "execution_count": 2,
      "metadata": {
        "colab": {
          "base_uri": "https://localhost:8080/"
        },
        "id": "1PaCF6xK33DD",
        "outputId": "6ef1d19a-8c26-496a-84de-7d7b7a63eb84"
      },
      "outputs": [
        {
          "output_type": "stream",
          "name": "stdout",
          "text": [
            "\n",
            "Weighted Ensemble Performance:\n",
            "Accuracy: 0.9966\n",
            "AUC-ROC: 0.9998\n"
          ]
        }
      ],
      "source": [
        "import pandas as pd\n",
        "import numpy as np\n",
        "from sklearn.model_selection import train_test_split\n",
        "from sklearn.ensemble import GradientBoostingClassifier\n",
        "from sklearn.neural_network import MLPClassifier\n",
        "from sklearn.metrics import accuracy_score, roc_auc_score\n",
        "from imblearn.over_sampling import SMOTE\n",
        "from sklearn.preprocessing import StandardScaler\n",
        "\n",
        "# Load and preprocess data (as per your code)\n",
        "df = pd.read_csv('/content/drive/My Drive/Insurance/telematics_syn.csv')\n",
        "df['ClaimYN'] = ((df['NB_Claim'] >= 1) & (df['AMT_Claim'] > 1000)).astype(int)\n",
        "df = df.drop(['NB_Claim', 'AMT_Claim'], axis=1)\n",
        "df = pd.get_dummies(df, drop_first=True)\n",
        "X = df.drop('ClaimYN', axis=1)\n",
        "y = df['ClaimYN']\n",
        "scaler = StandardScaler()\n",
        "X_scaled = scaler.fit_transform(X)\n",
        "smote = SMOTE(random_state=42)\n",
        "X_resampled, y_resampled = smote.fit_resample(X_scaled, y)\n",
        "\n",
        "# Split into train and validation\n",
        "X_train, X_val, y_train, y_val = train_test_split(X_resampled, y_resampled, test_size=0.2, random_state=42)\n",
        "\n",
        "# Train models\n",
        "gb_model = GradientBoostingClassifier(n_estimators=100, learning_rate=0.1, max_depth=5, random_state=42)\n",
        "nn_model = MLPClassifier(hidden_layer_sizes=(100, 50), activation='relu', solver='adam', max_iter=1000, random_state=42)\n",
        "gb_model.fit(X_train, y_train)\n",
        "nn_model.fit(X_train, y_train)\n",
        "\n",
        "# Get validation predictions and weights\n",
        "gb_val_proba = gb_model.predict_proba(X_val)[:, 1]\n",
        "nn_val_proba = nn_model.predict_proba(X_val)[:, 1]\n",
        "gb_val_acc = accuracy_score(y_val, (gb_val_proba > 0.5).astype(int))\n",
        "nn_val_acc = accuracy_score(y_val, (nn_val_proba > 0.5).astype(int))\n",
        "weight_gb = gb_val_acc / (gb_val_acc + nn_val_acc)\n",
        "weight_nn = nn_val_acc / (gb_val_acc + nn_val_acc)\n",
        "\n",
        "# Weighted ensemble on test set\n",
        "X_test, _, y_test, _ = train_test_split(X_resampled, y_resampled, test_size=0.2, random_state=42)\n",
        "gb_test_proba = gb_model.predict_proba(X_test)[:, 1]\n",
        "nn_test_proba = nn_model.predict_proba(X_test)[:, 1]\n",
        "ensemble_proba = (weight_gb * gb_test_proba + weight_nn * nn_test_proba)\n",
        "ensemble_pred = (ensemble_proba > 0.5).astype(int)\n",
        "\n",
        "# Evaluate\n",
        "print(\"\\nWeighted Ensemble Performance:\")\n",
        "print(f\"Accuracy: {accuracy_score(y_test, ensemble_pred):.4f}\")\n",
        "print(f\"AUC-ROC: {roc_auc_score(y_test, ensemble_proba):.4f}\")"
      ]
    },
    {
      "cell_type": "code",
      "execution_count": 3,
      "metadata": {
        "id": "z-FIWXsu4kJz",
        "colab": {
          "base_uri": "https://localhost:8080/"
        },
        "outputId": "5909a36c-e129-4ac9-c845-75681946cf52"
      },
      "outputs": [
        {
          "output_type": "stream",
          "name": "stdout",
          "text": [
            "Preprocessed dataset shape: (194604, 52)\n"
          ]
        }
      ],
      "source": [
        "import numpy as np\n",
        "from sklearn.preprocessing import StandardScaler\n",
        "\n",
        "# Load and initial preprocess (as above)\n",
        "df = pd.read_csv('/content/drive/My Drive/Insurance/telematics_syn.csv')\n",
        "df['ClaimYN'] = ((df['NB_Claim'] >= 1) & (df['AMT_Claim'] > 1000)).astype(int)\n",
        "df = df.drop(['NB_Claim', 'AMT_Claim'], axis=1)\n",
        "df = pd.get_dummies(df, drop_first=True)\n",
        "X = df.drop('ClaimYN', axis=1)\n",
        "y = df['ClaimYN']\n",
        "\n",
        "# Anomaly handling for Car.age\n",
        "X['Car.age'] = np.where(X['Car.age'] < 0, np.nan, X['Car.age'])  # Treat negative as missing\n",
        "X['Car.age'] = X['Car.age'].fillna(X['Car.age'].median())  # Impute with median\n",
        "\n",
        "# Log transformation for skewed intensity metrics\n",
        "intensity_cols = [col for col in X.columns if 'intensity' in col or 'Accel' in col or 'Brake' in col]\n",
        "for col in intensity_cols:\n",
        "    X[col] = np.log1p(X[col])  # log(1+x) to handle zeros\n",
        "\n",
        "# Scale and resample\n",
        "scaler = StandardScaler()\n",
        "X_scaled = scaler.fit_transform(X)\n",
        "smote = SMOTE(random_state=42)\n",
        "X_resampled, y_resampled = smote.fit_resample(X_scaled, y)\n",
        "\n",
        "print(\"Preprocessed dataset shape:\", X_resampled.shape)"
      ]
    },
    {
      "cell_type": "code",
      "execution_count": 4,
      "metadata": {
        "id": "xuhno59-6yYh",
        "colab": {
          "base_uri": "https://localhost:8080/"
        },
        "outputId": "0d9f7dcf-3574-4e05-ed5c-c18b9061b1d6"
      },
      "outputs": [
        {
          "output_type": "stream",
          "name": "stdout",
          "text": [
            "xLSTM training completed.\n"
          ]
        }
      ],
      "source": [
        "import torch\n",
        "import torch.nn as nn\n",
        "import torch.optim as optim\n",
        "from torch.utils.data import DataLoader, TensorDataset\n",
        "\n",
        "class NoiseFilterLSTMCell(nn.Module):\n",
        "    def __init__(self, input_size, hidden_size, noise_factor=0.1):\n",
        "        super(NoiseFilterLSTMCell, self).__init__()\n",
        "        self.input_size = input_size\n",
        "        self.hidden_size = hidden_size\n",
        "        self.noise_factor = noise_factor\n",
        "        self.i2h = nn.Linear(input_size + hidden_size, 5 * hidden_size)\n",
        "        self.h2h = nn.Linear(hidden_size, 5 * hidden_size)\n",
        "\n",
        "    def forward(self, x, hidden):\n",
        "        h, c = hidden\n",
        "        noise = torch.randn_like(x) * self.noise_factor\n",
        "        x_noisy = x + noise\n",
        "        combined = torch.cat((x_noisy, h), dim=1)\n",
        "        gates = self.i2h(combined) + self.h2h(h)\n",
        "        i, f, g, o, g_global = gates.chunk(5, 1)\n",
        "        i, f, o, g_global = [torch.sigmoid(x) for x in [i, f, o, g_global]]\n",
        "        c = f * c + i * torch.tanh(g)\n",
        "        c_filtered = g_global * torch.tanh(c) + (1 - g_global) * c\n",
        "        h = o * torch.tanh(c_filtered)\n",
        "        return h, c_filtered\n",
        "\n",
        "class xLSTM(nn.Module):\n",
        "    def __init__(self, input_size, hidden_size, num_layers, output_size):\n",
        "        super(xLSTM, self).__init__()\n",
        "        self.hidden_size = hidden_size\n",
        "        self.num_layers = num_layers\n",
        "        self.cells = nn.ModuleList([NoiseFilterLSTMCell(input_size if i == 0 else hidden_size, hidden_size) for i in range(num_layers)])\n",
        "        self.fc = nn.Linear(hidden_size, output_size)\n",
        "\n",
        "    def forward(self, x):\n",
        "        batch_size = x.size(0)\n",
        "        h = [torch.zeros(batch_size, self.hidden_size).to(x.device) for _ in range(self.num_layers)]\n",
        "        c = [torch.zeros(batch_size, self.hidden_size).to(x.device) for _ in range(self.num_layers)]\n",
        "        for t in range(x.size(1)):\n",
        "            for l in range(self.num_layers):\n",
        "                if l == 0:\n",
        "                    h[l], c[l] = self.cells[l](x[:, t, :], (h[l], c[l]))\n",
        "                else:\n",
        "                    h[l], c[l] = self.cells[l](h[l-1], (h[l], c[l]))\n",
        "        return self.fc(h[-1])\n",
        "\n",
        "# Prepare data (assuming X_resampled, y_resampled from above)\n",
        "X_train, X_test, y_train, y_test = train_test_split(X_resampled, y_resampled, test_size=0.2, random_state=42)\n",
        "X_train_tensor = torch.FloatTensor(X_train).unsqueeze(1)  # Add time dimension\n",
        "y_train_tensor = torch.LongTensor(y_train)\n",
        "train_loader = DataLoader(TensorDataset(X_train_tensor, y_train_tensor), batch_size=64, shuffle=True)\n",
        "\n",
        "# Train xLSTM\n",
        "xlstm_model = xLSTM(input_size=X_train.shape[1], hidden_size=64, num_layers=2, output_size=2)\n",
        "criterion = nn.CrossEntropyLoss()\n",
        "optimizer = optim.Adam(xlstm_model.parameters(), lr=0.001)\n",
        "xlstm_model.train()\n",
        "for epoch in range(20):\n",
        "    for X_batch, y_batch in train_loader:\n",
        "        optimizer.zero_grad()\n",
        "        output = xlstm_model(X_batch)\n",
        "        loss = criterion(output, y_batch)\n",
        "        loss.backward()\n",
        "        optimizer.step()\n",
        "print(\"xLSTM training completed.\")"
      ]
    },
    {
      "cell_type": "code",
      "source": [
        "from sklearn.metrics import precision_recall_curve, f1_score, precision_score, recall_score\n",
        "\n",
        "# Get predictions\n",
        "gb_test_proba = gb_model.predict_proba(X_test)[:, 1]\n",
        "nn_test_proba = nn_model.predict_proba(X_test)[:, 1]\n",
        "ensemble_proba = (weight_gb * gb_test_proba + weight_nn * nn_test_proba)\n",
        "\n",
        "# Threshold optimization\n",
        "precisions, recalls, thresholds = precision_recall_curve(y_test, ensemble_proba)\n",
        "f1_scores = [f1_score(y_test, (ensemble_proba >= t).astype(int)) for t in thresholds]\n",
        "optimal_idx = np.argmax(f1_scores)\n",
        "optimal_threshold = thresholds[optimal_idx]\n",
        "optimal_pred = (ensemble_proba >= optimal_threshold).astype(int)\n",
        "\n",
        "# Evaluate with optimal threshold\n",
        "print(f\"\\nOptimal Threshold: {optimal_threshold:.4f}\")\n",
        "print(\"Ensemble Performance with Optimal Threshold:\")\n",
        "print(f\"Accuracy: {accuracy_score(y_test, optimal_pred):.4f}\")\n",
        "print(f\"Precision: {precision_score(y_test, optimal_pred):.4f}\")\n",
        "print(f\"Recall: {recall_score(y_test, optimal_pred):.4f}\")\n",
        "print(f\"F1 Score: {f1_score(y_test, optimal_pred):.4f}\")\n",
        "print(f\"AUC-ROC: {roc_auc_score(y_test, ensemble_proba):.4f}\")"
      ],
      "metadata": {
        "colab": {
          "base_uri": "https://localhost:8080/"
        },
        "id": "gl2VCAOr8QLT",
        "outputId": "8db04f1b-eb3d-4954-96a8-42fa9947a2e7"
      },
      "execution_count": 6,
      "outputs": [
        {
          "output_type": "stream",
          "name": "stdout",
          "text": [
            "\n",
            "Optimal Threshold: 0.1144\n",
            "Ensemble Performance with Optimal Threshold:\n",
            "Accuracy: 0.8342\n",
            "Precision: 0.7866\n",
            "Recall: 0.9197\n",
            "F1 Score: 0.8480\n",
            "AUC-ROC: 0.8988\n"
          ]
        }
      ]
    },
    {
      "cell_type": "code",
      "source": [
        "import time\n",
        "\n",
        "# Batch processing function\n",
        "def process_in_batches(model, X, batch_size=1000):\n",
        "    predictions = []\n",
        "    start_time = time.time()\n",
        "    for i in range(0, len(X), batch_size):\n",
        "        batch = X[i:i + batch_size]\n",
        "        batch_pred = model.predict_proba(batch)[:, 1]\n",
        "        predictions.append(batch_pred)\n",
        "    end_time = time.time()\n",
        "    return np.concatenate(predictions), end_time - start_time\n",
        "\n",
        "# Test scalability\n",
        "gb_predictions, gb_time = process_in_batches(gb_model, X_test)\n",
        "nn_predictions, nn_time = process_in_batches(nn_model, X_test)\n",
        "start_time = time.time()\n",
        "ensemble_pred = (weight_gb * gb_predictions + weight_nn * nn_predictions)\n",
        "ensemble_time = time.time() - start_time + gb_time + nn_time\n",
        "\n",
        "print(f\"Gradient Boosting Processing Time: {gb_time:.2f} seconds\")\n",
        "print(f\"Neural Network Processing Time: {nn_time:.2f} seconds\")\n",
        "print(f\"Ensemble Processing Time: {ensemble_time:.2f} seconds\")"
      ],
      "metadata": {
        "colab": {
          "base_uri": "https://localhost:8080/"
        },
        "id": "jcxDUkmE8R5t",
        "outputId": "dd34af6f-9381-4556-e698-58cd0afc62f0"
      },
      "execution_count": 8,
      "outputs": [
        {
          "output_type": "stream",
          "name": "stdout",
          "text": [
            "Gradient Boosting Processing Time: 0.13 seconds\n",
            "Neural Network Processing Time: 0.06 seconds\n",
            "Ensemble Processing Time: 0.20 seconds\n"
          ]
        }
      ]
    }
  ],
  "metadata": {
    "colab": {
      "provenance": [],
      "gpuType": "T4",
      "authorship_tag": "ABX9TyNPBhzZYCkxGS6qzIyVhaHE",
      "include_colab_link": true
    },
    "kernelspec": {
      "display_name": "Python 3",
      "name": "python3"
    },
    "language_info": {
      "name": "python"
    },
    "accelerator": "GPU"
  },
  "nbformat": 4,
  "nbformat_minor": 0
}