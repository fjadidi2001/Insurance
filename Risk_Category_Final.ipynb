{
  "nbformat": 4,
  "nbformat_minor": 0,
  "metadata": {
    "colab": {
      "provenance": [],
      "gpuType": "T4",
      "include_colab_link": true
    },
    "kernelspec": {
      "name": "python3",
      "display_name": "Python 3"
    },
    "language_info": {
      "name": "python"
    },
    "accelerator": "GPU"
  },
  "cells": [
    {
      "cell_type": "markdown",
      "metadata": {
        "id": "view-in-github",
        "colab_type": "text"
      },
      "source": [
        "<a href=\"https://colab.research.google.com/github/fjadidi2001/Insurance/blob/main/Risk_Category_Final.ipynb\" target=\"_parent\"><img src=\"https://colab.research.google.com/assets/colab-badge.svg\" alt=\"Open In Colab\"/></a>"
      ]
    },
    {
      "cell_type": "code",
      "source": [
        "import pandas as pd\n",
        "from imblearn.over_sampling import SMOTE\n",
        "from collections import Counter\n",
        "from sklearn.preprocessing import LabelEncoder"
      ],
      "metadata": {
        "id": "x5lJ2a0T2MRo"
      },
      "execution_count": 1,
      "outputs": []
    },
    {
      "cell_type": "code",
      "source": [
        "import pandas as pd\n",
        "from imblearn.over_sampling import SMOTE\n",
        "from collections import Counter\n",
        "from sklearn.preprocessing import LabelEncoder\n",
        "\n",
        "# Load your dataset\n",
        "data = pd.read_csv('telematics_syn.csv')\n",
        "\n"
      ],
      "metadata": {
        "id": "ncAvdtmtao7d"
      },
      "execution_count": 3,
      "outputs": []
    },
    {
      "cell_type": "markdown",
      "source": [
        "# Step 1: Inspect the Dataset\n"
      ],
      "metadata": {
        "id": "e_BatNmCZEUx"
      }
    },
    {
      "cell_type": "code",
      "source": [
        "# Check the first few rows\n",
        "print(data.head())\n",
        "\n",
        "# Check data types and missing values\n",
        "print(data.info())\n",
        "\n",
        "# Summary statistics\n",
        "print(data.describe())"
      ],
      "metadata": {
        "colab": {
          "base_uri": "https://localhost:8080/"
        },
        "id": "6taRPT6ZY_dd",
        "outputId": "fb6282b7-4898-43ef-b323-2929d2d4a726"
      },
      "execution_count": 4,
      "outputs": [
        {
          "output_type": "stream",
          "name": "stdout",
          "text": [
            "   Duration  Insured.age Insured.sex  Car.age  Marital  Car.use  Credit.score  \\\n",
            "0       366           45        Male       -1  Married  Commute         609.0   \n",
            "1       182           44      Female        3  Married  Commute         575.0   \n",
            "2       184           48      Female        6  Married  Commute         847.0   \n",
            "3       183           71        Male        6  Married  Private         842.0   \n",
            "4       183           84        Male       10  Married  Private         856.0   \n",
            "\n",
            "  Region  Annual.miles.drive  Years.noclaims  ...  Left.turn.intensity10  \\\n",
            "0  Urban             6213.71              25  ...                    1.0   \n",
            "1  Urban            12427.42              20  ...                   58.0   \n",
            "2  Urban            12427.42              14  ...                    0.0   \n",
            "3  Urban             6213.71              43  ...                    0.0   \n",
            "4  Urban             6213.71              65  ...                    2.0   \n",
            "\n",
            "   Left.turn.intensity11  Left.turn.intensity12  Right.turn.intensity08  \\\n",
            "0                    0.0                    0.0                     3.0   \n",
            "1                   24.0                   11.0                  1099.0   \n",
            "2                    0.0                    0.0                     0.0   \n",
            "3                    0.0                    0.0                     0.0   \n",
            "4                    0.0                    0.0                   325.0   \n",
            "\n",
            "   Right.turn.intensity09  Right.turn.intensity10  Right.turn.intensity11  \\\n",
            "0                     1.0                     0.0                     0.0   \n",
            "1                   615.0                   219.0                   101.0   \n",
            "2                     0.0                     0.0                     0.0   \n",
            "3                     0.0                     0.0                     0.0   \n",
            "4                   111.0                    18.0                     4.0   \n",
            "\n",
            "   Right.turn.intensity12  NB_Claim    AMT_Claim  \n",
            "0                     0.0       1.0  5100.171753  \n",
            "1                    40.0       1.0   883.554840  \n",
            "2                     0.0       0.0     0.000000  \n",
            "3                     0.0       0.0     0.000000  \n",
            "4                     2.0       0.0     0.000000  \n",
            "\n",
            "[5 rows x 52 columns]\n",
            "<class 'pandas.core.frame.DataFrame'>\n",
            "RangeIndex: 80022 entries, 0 to 80021\n",
            "Data columns (total 52 columns):\n",
            " #   Column                  Non-Null Count  Dtype  \n",
            "---  ------                  --------------  -----  \n",
            " 0   Duration                80022 non-null  int64  \n",
            " 1   Insured.age             80022 non-null  int64  \n",
            " 2   Insured.sex             80022 non-null  object \n",
            " 3   Car.age                 80022 non-null  int64  \n",
            " 4   Marital                 80022 non-null  object \n",
            " 5   Car.use                 80022 non-null  object \n",
            " 6   Credit.score            80022 non-null  float64\n",
            " 7   Region                  80022 non-null  object \n",
            " 8   Annual.miles.drive      80022 non-null  float64\n",
            " 9   Years.noclaims          80022 non-null  int64  \n",
            " 10  Territory               80022 non-null  int64  \n",
            " 11  Annual.pct.driven       80022 non-null  float64\n",
            " 12  Total.miles.driven      80022 non-null  float64\n",
            " 13  Pct.drive.mon           80022 non-null  float64\n",
            " 14  Pct.drive.tue           80022 non-null  float64\n",
            " 15  Pct.drive.wed           80022 non-null  float64\n",
            " 16  Pct.drive.thr           80022 non-null  float64\n",
            " 17  Pct.drive.fri           80022 non-null  float64\n",
            " 18  Pct.drive.sat           80022 non-null  float64\n",
            " 19  Pct.drive.sun           80022 non-null  float64\n",
            " 20  Pct.drive.2hrs          80022 non-null  float64\n",
            " 21  Pct.drive.3hrs          80022 non-null  float64\n",
            " 22  Pct.drive.4hrs          80022 non-null  float64\n",
            " 23  Pct.drive.wkday         80022 non-null  float64\n",
            " 24  Pct.drive.wkend         80022 non-null  float64\n",
            " 25  Pct.drive.rush am       80022 non-null  float64\n",
            " 26  Pct.drive.rush pm       80022 non-null  float64\n",
            " 27  Avgdays.week            80022 non-null  float64\n",
            " 28  Accel.06miles           80022 non-null  float64\n",
            " 29  Accel.08miles           80022 non-null  float64\n",
            " 30  Accel.09miles           80022 non-null  float64\n",
            " 31  Accel.11miles           80022 non-null  float64\n",
            " 32  Accel.12miles           80022 non-null  float64\n",
            " 33  Accel.14miles           80022 non-null  float64\n",
            " 34  Brake.06miles           80022 non-null  float64\n",
            " 35  Brake.08miles           80022 non-null  float64\n",
            " 36  Brake.09miles           80022 non-null  float64\n",
            " 37  Brake.11miles           80022 non-null  float64\n",
            " 38  Brake.12miles           80022 non-null  float64\n",
            " 39  Brake.14miles           80022 non-null  float64\n",
            " 40  Left.turn.intensity08   80022 non-null  float64\n",
            " 41  Left.turn.intensity09   80022 non-null  float64\n",
            " 42  Left.turn.intensity10   80022 non-null  float64\n",
            " 43  Left.turn.intensity11   80021 non-null  float64\n",
            " 44  Left.turn.intensity12   80021 non-null  float64\n",
            " 45  Right.turn.intensity08  80021 non-null  float64\n",
            " 46  Right.turn.intensity09  80021 non-null  float64\n",
            " 47  Right.turn.intensity10  80021 non-null  float64\n",
            " 48  Right.turn.intensity11  80021 non-null  float64\n",
            " 49  Right.turn.intensity12  80021 non-null  float64\n",
            " 50  NB_Claim                80021 non-null  float64\n",
            " 51  AMT_Claim               80021 non-null  float64\n",
            "dtypes: float64(43), int64(5), object(4)\n",
            "memory usage: 31.7+ MB\n",
            "None\n",
            "           Duration   Insured.age       Car.age  Credit.score  \\\n",
            "count  80022.000000  80022.000000  80022.000000  80022.000000   \n",
            "mean     314.209455     51.386969      5.648709    800.881783   \n",
            "std       79.730553     15.477208      4.062763     83.443452   \n",
            "min       65.000000     16.000000     -2.000000    422.000000   \n",
            "25%      200.000000     39.000000      2.000000    766.000000   \n",
            "50%      365.000000     51.000000      5.000000    825.000000   \n",
            "75%      366.000000     63.000000      8.000000    856.000000   \n",
            "max      366.000000    103.000000     19.000000    900.000000   \n",
            "\n",
            "       Annual.miles.drive  Years.noclaims     Territory  Annual.pct.driven  \\\n",
            "count        80022.000000    80022.000000  80022.000000       80022.000000   \n",
            "mean          9112.841099       28.843755     56.472945           0.503362   \n",
            "std           3815.257408       16.127834     24.052233           0.299431   \n",
            "min              0.000000        0.000000     11.000000           0.002740   \n",
            "25%           6213.710000       15.000000     35.000000           0.249315   \n",
            "50%           7456.452000       29.000000     62.000000           0.490411   \n",
            "75%          12427.420000       41.000000     78.000000           0.756164   \n",
            "max          56731.172300       79.000000     91.000000           1.000000   \n",
            "\n",
            "       Total.miles.driven  Pct.drive.mon  ...  Left.turn.intensity10  \\\n",
            "count        80022.000000   80022.000000  ...           80022.000000   \n",
            "mean          4836.104662       0.139322  ...             564.669803   \n",
            "std           4546.133547       0.042888  ...           14878.898977   \n",
            "min              0.095298       0.000000  ...               0.000000   \n",
            "25%           1528.929598       0.120854  ...               0.000000   \n",
            "50%           3476.744227       0.137908  ...               3.000000   \n",
            "75%           6786.730979       0.155154  ...              30.000000   \n",
            "max          47282.603936       0.998172  ...          794380.000000   \n",
            "\n",
            "       Left.turn.intensity11  Left.turn.intensity12  Right.turn.intensity08  \\\n",
            "count           80021.000000           80021.000000            80021.000000   \n",
            "mean              495.192025             453.554504              802.364642   \n",
            "std             14354.095429           13863.868833            10428.011266   \n",
            "min                 0.000000               0.000000                0.000000   \n",
            "25%                 0.000000               0.000000               12.000000   \n",
            "50%                 1.000000               0.000000              124.000000   \n",
            "75%                 9.000000               2.000000              682.000000   \n",
            "max            793926.000000          793170.000000           743789.000000   \n",
            "\n",
            "       Right.turn.intensity09  Right.turn.intensity10  Right.turn.intensity11  \\\n",
            "count            80021.000000            80021.000000            80021.000000   \n",
            "mean               523.125380              284.600605              209.441272   \n",
            "std               9427.313633             8159.602380             7798.887624   \n",
            "min                  0.000000                0.000000                0.000000   \n",
            "25%                  3.000000                0.000000                0.000000   \n",
            "50%                 44.000000                7.000000                2.000000   \n",
            "75%                321.000000               81.000000               27.000000   \n",
            "max             743787.000000           743784.000000           743769.000000   \n",
            "\n",
            "       Right.turn.intensity12      NB_Claim     AMT_Claim  \n",
            "count            80021.000000  80021.000000  80021.000000  \n",
            "mean               166.638620      0.045238    136.996528  \n",
            "std               7499.291338      0.218840   1208.416547  \n",
            "min                  0.000000      0.000000      0.000000  \n",
            "25%                  0.000000      0.000000      0.000000  \n",
            "50%                  0.000000      0.000000      0.000000  \n",
            "75%                  9.000000      0.000000      0.000000  \n",
            "max             743741.000000      3.000000  54301.710938  \n",
            "\n",
            "[8 rows x 48 columns]\n"
          ]
        }
      ]
    },
    {
      "cell_type": "markdown",
      "source": [
        "# Step 2: Handle Missing Values\n"
      ],
      "metadata": {
        "id": "SqE_QCnCZMLN"
      }
    },
    {
      "cell_type": "code",
      "source": [
        "# Drop the single row with missing values\n",
        "data.dropna(inplace=True)"
      ],
      "metadata": {
        "id": "TgLJ1BeTZK-J"
      },
      "execution_count": 8,
      "outputs": []
    },
    {
      "cell_type": "markdown",
      "source": [
        "## Step 2.1. Fix Invalid Car.age\n"
      ],
      "metadata": {
        "id": "zIDu7X-jZVkR"
      }
    },
    {
      "cell_type": "code",
      "source": [
        "# Replace negative values with 0 (assuming data entry error)\n",
        "data['Car.age'] = data['Car.age'].clip(lower=0)"
      ],
      "metadata": {
        "id": "jZuExg4OZSSy"
      },
      "execution_count": 9,
      "outputs": []
    },
    {
      "cell_type": "markdown",
      "source": [
        "# 3. Encode Categorical Variables\n"
      ],
      "metadata": {
        "id": "Zc9rcNUBaEt2"
      }
    },
    {
      "cell_type": "code",
      "source": [
        "# One-hot encode categorical features\n",
        "cat_cols = ['Insured.sex', 'Marital', 'Car.use', 'Region']\n",
        "data = pd.get_dummies(data, columns=cat_cols, drop_first=True)"
      ],
      "metadata": {
        "id": "OD8oTuU_aFze"
      },
      "execution_count": 10,
      "outputs": []
    },
    {
      "cell_type": "markdown",
      "source": [
        "# 4. Separate Features & Target\n"
      ],
      "metadata": {
        "id": "GoOc9_HWaNDM"
      }
    },
    {
      "cell_type": "code",
      "source": [
        "X = data.drop(['NB_Claim', 'AMT_Claim'], axis=1)  # Features\n",
        "y = data['NB_Claim']  # Binary classification target (Claim Yes/No)"
      ],
      "metadata": {
        "id": "klCh7me8aQTo"
      },
      "execution_count": 11,
      "outputs": []
    },
    {
      "cell_type": "markdown",
      "source": [
        "# 5. Split Data\n"
      ],
      "metadata": {
        "id": "N9dBWzB-asrT"
      }
    },
    {
      "cell_type": "code",
      "source": [
        "from sklearn.model_selection import train_test_split\n",
        "X_train, X_test, y_train, y_test = train_test_split(\n",
        "    X, y, test_size=0.2, random_state=42, stratify=y\n",
        ")"
      ],
      "metadata": {
        "id": "8HPoCg3kaSV9"
      },
      "execution_count": 13,
      "outputs": []
    },
    {
      "cell_type": "markdown",
      "source": [
        "# 6. Address Class Imbalance with SMOTE\n"
      ],
      "metadata": {
        "id": "kbhCEoULaw5j"
      }
    },
    {
      "cell_type": "code",
      "source": [
        "smote = SMOTE(random_state=42)\n",
        "X_resampled, y_resampled = smote.fit_resample(X_train, y_train)\n",
        "print(\"Resampled class distribution:\", Counter(y_resampled))"
      ],
      "metadata": {
        "colab": {
          "base_uri": "https://localhost:8080/"
        },
        "id": "6BfTy9ZJaucl",
        "outputId": "ff3d0118-88e8-4eed-ba14-ca86b7d9c318"
      },
      "execution_count": 14,
      "outputs": [
        {
          "output_type": "stream",
          "name": "stdout",
          "text": [
            "Resampled class distribution: Counter({0.0: 61263, 1.0: 61263, 2.0: 61263, 3.0: 61263})\n"
          ]
        }
      ]
    },
    {
      "cell_type": "markdown",
      "source": [
        "# 7. Feature Scaling (Critical for Linear Models)\n"
      ],
      "metadata": {
        "id": "-ipkxrMOa4lF"
      }
    },
    {
      "cell_type": "code",
      "source": [
        "from sklearn.preprocessing import StandardScaler\n",
        "scaler = StandardScaler()\n",
        "X_resampled = scaler.fit_transform(X_resampled)\n",
        "X_test = scaler.transform(X_test)"
      ],
      "metadata": {
        "id": "3wVSsZJBa74r"
      },
      "execution_count": 16,
      "outputs": []
    },
    {
      "cell_type": "code",
      "source": [
        "import pandas as pd\n",
        "import numpy as np\n",
        "from imblearn.over_sampling import SMOTE\n",
        "from sklearn.model_selection import train_test_split\n",
        "from xgboost import XGBClassifier\n",
        "from sklearn.metrics import (roc_auc_score, classification_report,\n",
        "                             confusion_matrix, ConfusionMatrixDisplay)\n",
        "import matplotlib.pyplot as plt\n",
        "\n",
        "# Load and preprocess data\n",
        "data = pd.read_csv('telematics_syn.csv')\n",
        "data.dropna(inplace=True)\n",
        "data['Car.age'] = data['Car.age'].clip(lower=0)\n",
        "\n",
        "# Encode categorical variables\n",
        "cat_cols = ['Insured.sex', 'Marital', 'Car.use', 'Region']\n",
        "data = pd.get_dummies(data, columns=cat_cols, drop_first=True)\n",
        "\n",
        "# Split data\n",
        "X = data.drop(['NB_Claim', 'AMT_Claim'], axis=1)\n",
        "y = data['NB_Claim'].astype(int)  # Convert to integer for XGBoost\n",
        "X_train, X_test, y_train, y_test = train_test_split(\n",
        "    X, y, test_size=0.2, random_state=42, stratify=y\n",
        ")\n",
        "\n",
        "# Apply SMOTE to training data only\n",
        "smote = SMOTE(random_state=42)\n",
        "X_res, y_res = smote.fit_resample(X_train, y_train)\n",
        "\n",
        "# XGBoost Classifier with imbalance handling\n",
        "model = XGBClassifier(\n",
        "    scale_pos_weight=len(y_res[y_res==0])/len(y_res[y_res==1]),  # Auto-balance\n",
        "    objective='binary:logistic',\n",
        "    eval_metric='aucpr',  # Optimized for imbalanced data\n",
        "    n_estimators=1000,\n",
        "    early_stopping_rounds=50,\n",
        "    subsample=0.8,\n",
        "    colsample_bytree=0.8,\n",
        "    random_state=42\n",
        ")\n",
        "\n",
        "# Train with early stopping\n",
        "model.fit(\n",
        "    X_res, y_res,\n",
        "    eval_set=[(X_test, y_test)],\n",
        "    verbose=20\n",
        ")\n",
        "\n",
        "# Evaluate\n",
        "y_pred = model.predict(X_test)\n",
        "y_proba = model.predict_proba(X_test)[:,1]\n",
        "\n",
        "print(f\"\\nAUC-ROC: {roc_auc_score(y_test, y_proba):.4f}\")\n",
        "print(classification_report(y_test, y_pred))\n",
        "\n",
        "# Confusion Matrix\n",
        "fig, ax = plt.subplots(figsize=(5,5))\n",
        "ConfusionMatrixDisplay.from_predictions(y_test, y_pred, ax=ax, cmap='Blues')\n",
        "plt.show()\n",
        "\n",
        "# Feature Importance\n",
        "plt.figure(figsize=(12,8))\n",
        "sorted_idx = model.feature_importances_.argsort()\n",
        "plt.barh(X.columns[sorted_idx][-20:], model.feature_importances_[sorted_idx][-20:])\n",
        "plt.xlabel(\"XGBoost Feature Importance\")\n",
        "plt.show()"
      ],
      "metadata": {
        "colab": {
          "base_uri": "https://localhost:8080/",
          "height": 790
        },
        "id": "WW0HJrqLbpAO",
        "outputId": "74432272-a152-4bc2-a584-f439ebd70c8f"
      },
      "execution_count": 17,
      "outputs": [
        {
          "output_type": "stream",
          "name": "stderr",
          "text": [
            "/usr/local/lib/python3.11/dist-packages/xgboost/core.py:158: UserWarning: [07:06:10] WARNING: /workspace/src/learner.cc:740: \n",
            "Parameters: { \"scale_pos_weight\" } are not used.\n",
            "\n",
            "  warnings.warn(smsg, UserWarning)\n"
          ]
        },
        {
          "output_type": "stream",
          "name": "stdout",
          "text": [
            "[0]\tvalidation_0-aucpr:0.40917\n",
            "[20]\tvalidation_0-aucpr:0.45391\n",
            "[40]\tvalidation_0-aucpr:0.50514\n",
            "[60]\tvalidation_0-aucpr:0.53104\n",
            "[80]\tvalidation_0-aucpr:0.55157\n",
            "[100]\tvalidation_0-aucpr:0.56602\n",
            "[120]\tvalidation_0-aucpr:0.58315\n",
            "[140]\tvalidation_0-aucpr:0.58947\n",
            "[160]\tvalidation_0-aucpr:0.59809\n",
            "[180]\tvalidation_0-aucpr:0.60449\n",
            "[200]\tvalidation_0-aucpr:0.61012\n",
            "[220]\tvalidation_0-aucpr:0.61413\n",
            "[240]\tvalidation_0-aucpr:0.61622\n",
            "[260]\tvalidation_0-aucpr:0.62062\n",
            "[280]\tvalidation_0-aucpr:0.62336\n",
            "[300]\tvalidation_0-aucpr:0.62524\n",
            "[320]\tvalidation_0-aucpr:0.62736\n",
            "[340]\tvalidation_0-aucpr:0.62884\n",
            "[360]\tvalidation_0-aucpr:0.62892\n",
            "[380]\tvalidation_0-aucpr:0.63021\n",
            "[395]\tvalidation_0-aucpr:0.63091\n"
          ]
        },
        {
          "output_type": "error",
          "ename": "ValueError",
          "evalue": "multi_class must be in ('ovo', 'ovr')",
          "traceback": [
            "\u001b[0;31m---------------------------------------------------------------------------\u001b[0m",
            "\u001b[0;31mValueError\u001b[0m                                Traceback (most recent call last)",
            "\u001b[0;32m<ipython-input-17-580c10008fd7>\u001b[0m in \u001b[0;36m<cell line: 0>\u001b[0;34m()\u001b[0m\n\u001b[1;32m     51\u001b[0m \u001b[0my_proba\u001b[0m \u001b[0;34m=\u001b[0m \u001b[0mmodel\u001b[0m\u001b[0;34m.\u001b[0m\u001b[0mpredict_proba\u001b[0m\u001b[0;34m(\u001b[0m\u001b[0mX_test\u001b[0m\u001b[0;34m)\u001b[0m\u001b[0;34m[\u001b[0m\u001b[0;34m:\u001b[0m\u001b[0;34m,\u001b[0m\u001b[0;36m1\u001b[0m\u001b[0;34m]\u001b[0m\u001b[0;34m\u001b[0m\u001b[0;34m\u001b[0m\u001b[0m\n\u001b[1;32m     52\u001b[0m \u001b[0;34m\u001b[0m\u001b[0m\n\u001b[0;32m---> 53\u001b[0;31m \u001b[0mprint\u001b[0m\u001b[0;34m(\u001b[0m\u001b[0;34mf\"\\nAUC-ROC: {roc_auc_score(y_test, y_proba):.4f}\"\u001b[0m\u001b[0;34m)\u001b[0m\u001b[0;34m\u001b[0m\u001b[0;34m\u001b[0m\u001b[0m\n\u001b[0m\u001b[1;32m     54\u001b[0m \u001b[0mprint\u001b[0m\u001b[0;34m(\u001b[0m\u001b[0mclassification_report\u001b[0m\u001b[0;34m(\u001b[0m\u001b[0my_test\u001b[0m\u001b[0;34m,\u001b[0m \u001b[0my_pred\u001b[0m\u001b[0;34m)\u001b[0m\u001b[0;34m)\u001b[0m\u001b[0;34m\u001b[0m\u001b[0;34m\u001b[0m\u001b[0m\n\u001b[1;32m     55\u001b[0m \u001b[0;34m\u001b[0m\u001b[0m\n",
            "\u001b[0;32m/usr/local/lib/python3.11/dist-packages/sklearn/utils/_param_validation.py\u001b[0m in \u001b[0;36mwrapper\u001b[0;34m(*args, **kwargs)\u001b[0m\n\u001b[1;32m    214\u001b[0m                     )\n\u001b[1;32m    215\u001b[0m                 ):\n\u001b[0;32m--> 216\u001b[0;31m                     \u001b[0;32mreturn\u001b[0m \u001b[0mfunc\u001b[0m\u001b[0;34m(\u001b[0m\u001b[0;34m*\u001b[0m\u001b[0margs\u001b[0m\u001b[0;34m,\u001b[0m \u001b[0;34m**\u001b[0m\u001b[0mkwargs\u001b[0m\u001b[0;34m)\u001b[0m\u001b[0;34m\u001b[0m\u001b[0;34m\u001b[0m\u001b[0m\n\u001b[0m\u001b[1;32m    217\u001b[0m             \u001b[0;32mexcept\u001b[0m \u001b[0mInvalidParameterError\u001b[0m \u001b[0;32mas\u001b[0m \u001b[0me\u001b[0m\u001b[0;34m:\u001b[0m\u001b[0;34m\u001b[0m\u001b[0;34m\u001b[0m\u001b[0m\n\u001b[1;32m    218\u001b[0m                 \u001b[0;31m# When the function is just a wrapper around an estimator, we allow\u001b[0m\u001b[0;34m\u001b[0m\u001b[0;34m\u001b[0m\u001b[0m\n",
            "\u001b[0;32m/usr/local/lib/python3.11/dist-packages/sklearn/metrics/_ranking.py\u001b[0m in \u001b[0;36mroc_auc_score\u001b[0;34m(y_true, y_score, average, sample_weight, max_fpr, multi_class, labels)\u001b[0m\n\u001b[1;32m    632\u001b[0m             )\n\u001b[1;32m    633\u001b[0m         \u001b[0;32mif\u001b[0m \u001b[0mmulti_class\u001b[0m \u001b[0;34m==\u001b[0m \u001b[0;34m\"raise\"\u001b[0m\u001b[0;34m:\u001b[0m\u001b[0;34m\u001b[0m\u001b[0;34m\u001b[0m\u001b[0m\n\u001b[0;32m--> 634\u001b[0;31m             \u001b[0;32mraise\u001b[0m \u001b[0mValueError\u001b[0m\u001b[0;34m(\u001b[0m\u001b[0;34m\"multi_class must be in ('ovo', 'ovr')\"\u001b[0m\u001b[0;34m)\u001b[0m\u001b[0;34m\u001b[0m\u001b[0;34m\u001b[0m\u001b[0m\n\u001b[0m\u001b[1;32m    635\u001b[0m         return _multiclass_roc_auc_score(\n\u001b[1;32m    636\u001b[0m             \u001b[0my_true\u001b[0m\u001b[0;34m,\u001b[0m \u001b[0my_score\u001b[0m\u001b[0;34m,\u001b[0m \u001b[0mlabels\u001b[0m\u001b[0;34m,\u001b[0m \u001b[0mmulti_class\u001b[0m\u001b[0;34m,\u001b[0m \u001b[0maverage\u001b[0m\u001b[0;34m,\u001b[0m \u001b[0msample_weight\u001b[0m\u001b[0;34m\u001b[0m\u001b[0;34m\u001b[0m\u001b[0m\n",
            "\u001b[0;31mValueError\u001b[0m: multi_class must be in ('ovo', 'ovr')"
          ]
        }
      ]
    }
  ]
}