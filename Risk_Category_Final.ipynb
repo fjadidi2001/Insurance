{
  "nbformat": 4,
  "nbformat_minor": 0,
  "metadata": {
    "colab": {
      "provenance": [],
      "gpuType": "T4",
      "include_colab_link": true
    },
    "kernelspec": {
      "name": "python3",
      "display_name": "Python 3"
    },
    "language_info": {
      "name": "python"
    },
    "accelerator": "GPU"
  },
  "cells": [
    {
      "cell_type": "markdown",
      "metadata": {
        "id": "view-in-github",
        "colab_type": "text"
      },
      "source": [
        "<a href=\"https://colab.research.google.com/github/fjadidi2001/Insurance/blob/main/Risk_Category_Final.ipynb\" target=\"_parent\"><img src=\"https://colab.research.google.com/assets/colab-badge.svg\" alt=\"Open In Colab\"/></a>"
      ]
    },
    {
      "cell_type": "code",
      "source": [
        "import pandas as pd\n",
        "from imblearn.over_sampling import SMOTE\n",
        "from collections import Counter\n",
        "from sklearn.preprocessing import LabelEncoder"
      ],
      "metadata": {
        "id": "x5lJ2a0T2MRo"
      },
      "execution_count": 1,
      "outputs": []
    },
    {
      "cell_type": "code",
      "source": [
        "import pandas as pd\n",
        "from imblearn.over_sampling import SMOTE\n",
        "from collections import Counter\n",
        "from sklearn.preprocessing import LabelEncoder\n",
        "\n",
        "# Load your dataset\n",
        "data = pd.read_csv('telematics_syn.csv')\n",
        "\n"
      ],
      "metadata": {
        "id": "ncAvdtmtao7d"
      },
      "execution_count": 3,
      "outputs": []
    },
    {
      "cell_type": "markdown",
      "source": [
        "# Step 1: Inspect the Dataset\n"
      ],
      "metadata": {
        "id": "e_BatNmCZEUx"
      }
    },
    {
      "cell_type": "code",
      "source": [
        "# Check the first few rows\n",
        "print(data.head())\n",
        "\n",
        "# Check data types and missing values\n",
        "print(data.info())\n",
        "\n",
        "# Summary statistics\n",
        "print(data.describe())"
      ],
      "metadata": {
        "colab": {
          "base_uri": "https://localhost:8080/"
        },
        "id": "6taRPT6ZY_dd",
        "outputId": "fb6282b7-4898-43ef-b323-2929d2d4a726"
      },
      "execution_count": 4,
      "outputs": [
        {
          "output_type": "stream",
          "name": "stdout",
          "text": [
            "   Duration  Insured.age Insured.sex  Car.age  Marital  Car.use  Credit.score  \\\n",
            "0       366           45        Male       -1  Married  Commute         609.0   \n",
            "1       182           44      Female        3  Married  Commute         575.0   \n",
            "2       184           48      Female        6  Married  Commute         847.0   \n",
            "3       183           71        Male        6  Married  Private         842.0   \n",
            "4       183           84        Male       10  Married  Private         856.0   \n",
            "\n",
            "  Region  Annual.miles.drive  Years.noclaims  ...  Left.turn.intensity10  \\\n",
            "0  Urban             6213.71              25  ...                    1.0   \n",
            "1  Urban            12427.42              20  ...                   58.0   \n",
            "2  Urban            12427.42              14  ...                    0.0   \n",
            "3  Urban             6213.71              43  ...                    0.0   \n",
            "4  Urban             6213.71              65  ...                    2.0   \n",
            "\n",
            "   Left.turn.intensity11  Left.turn.intensity12  Right.turn.intensity08  \\\n",
            "0                    0.0                    0.0                     3.0   \n",
            "1                   24.0                   11.0                  1099.0   \n",
            "2                    0.0                    0.0                     0.0   \n",
            "3                    0.0                    0.0                     0.0   \n",
            "4                    0.0                    0.0                   325.0   \n",
            "\n",
            "   Right.turn.intensity09  Right.turn.intensity10  Right.turn.intensity11  \\\n",
            "0                     1.0                     0.0                     0.0   \n",
            "1                   615.0                   219.0                   101.0   \n",
            "2                     0.0                     0.0                     0.0   \n",
            "3                     0.0                     0.0                     0.0   \n",
            "4                   111.0                    18.0                     4.0   \n",
            "\n",
            "   Right.turn.intensity12  NB_Claim    AMT_Claim  \n",
            "0                     0.0       1.0  5100.171753  \n",
            "1                    40.0       1.0   883.554840  \n",
            "2                     0.0       0.0     0.000000  \n",
            "3                     0.0       0.0     0.000000  \n",
            "4                     2.0       0.0     0.000000  \n",
            "\n",
            "[5 rows x 52 columns]\n",
            "<class 'pandas.core.frame.DataFrame'>\n",
            "RangeIndex: 80022 entries, 0 to 80021\n",
            "Data columns (total 52 columns):\n",
            " #   Column                  Non-Null Count  Dtype  \n",
            "---  ------                  --------------  -----  \n",
            " 0   Duration                80022 non-null  int64  \n",
            " 1   Insured.age             80022 non-null  int64  \n",
            " 2   Insured.sex             80022 non-null  object \n",
            " 3   Car.age                 80022 non-null  int64  \n",
            " 4   Marital                 80022 non-null  object \n",
            " 5   Car.use                 80022 non-null  object \n",
            " 6   Credit.score            80022 non-null  float64\n",
            " 7   Region                  80022 non-null  object \n",
            " 8   Annual.miles.drive      80022 non-null  float64\n",
            " 9   Years.noclaims          80022 non-null  int64  \n",
            " 10  Territory               80022 non-null  int64  \n",
            " 11  Annual.pct.driven       80022 non-null  float64\n",
            " 12  Total.miles.driven      80022 non-null  float64\n",
            " 13  Pct.drive.mon           80022 non-null  float64\n",
            " 14  Pct.drive.tue           80022 non-null  float64\n",
            " 15  Pct.drive.wed           80022 non-null  float64\n",
            " 16  Pct.drive.thr           80022 non-null  float64\n",
            " 17  Pct.drive.fri           80022 non-null  float64\n",
            " 18  Pct.drive.sat           80022 non-null  float64\n",
            " 19  Pct.drive.sun           80022 non-null  float64\n",
            " 20  Pct.drive.2hrs          80022 non-null  float64\n",
            " 21  Pct.drive.3hrs          80022 non-null  float64\n",
            " 22  Pct.drive.4hrs          80022 non-null  float64\n",
            " 23  Pct.drive.wkday         80022 non-null  float64\n",
            " 24  Pct.drive.wkend         80022 non-null  float64\n",
            " 25  Pct.drive.rush am       80022 non-null  float64\n",
            " 26  Pct.drive.rush pm       80022 non-null  float64\n",
            " 27  Avgdays.week            80022 non-null  float64\n",
            " 28  Accel.06miles           80022 non-null  float64\n",
            " 29  Accel.08miles           80022 non-null  float64\n",
            " 30  Accel.09miles           80022 non-null  float64\n",
            " 31  Accel.11miles           80022 non-null  float64\n",
            " 32  Accel.12miles           80022 non-null  float64\n",
            " 33  Accel.14miles           80022 non-null  float64\n",
            " 34  Brake.06miles           80022 non-null  float64\n",
            " 35  Brake.08miles           80022 non-null  float64\n",
            " 36  Brake.09miles           80022 non-null  float64\n",
            " 37  Brake.11miles           80022 non-null  float64\n",
            " 38  Brake.12miles           80022 non-null  float64\n",
            " 39  Brake.14miles           80022 non-null  float64\n",
            " 40  Left.turn.intensity08   80022 non-null  float64\n",
            " 41  Left.turn.intensity09   80022 non-null  float64\n",
            " 42  Left.turn.intensity10   80022 non-null  float64\n",
            " 43  Left.turn.intensity11   80021 non-null  float64\n",
            " 44  Left.turn.intensity12   80021 non-null  float64\n",
            " 45  Right.turn.intensity08  80021 non-null  float64\n",
            " 46  Right.turn.intensity09  80021 non-null  float64\n",
            " 47  Right.turn.intensity10  80021 non-null  float64\n",
            " 48  Right.turn.intensity11  80021 non-null  float64\n",
            " 49  Right.turn.intensity12  80021 non-null  float64\n",
            " 50  NB_Claim                80021 non-null  float64\n",
            " 51  AMT_Claim               80021 non-null  float64\n",
            "dtypes: float64(43), int64(5), object(4)\n",
            "memory usage: 31.7+ MB\n",
            "None\n",
            "           Duration   Insured.age       Car.age  Credit.score  \\\n",
            "count  80022.000000  80022.000000  80022.000000  80022.000000   \n",
            "mean     314.209455     51.386969      5.648709    800.881783   \n",
            "std       79.730553     15.477208      4.062763     83.443452   \n",
            "min       65.000000     16.000000     -2.000000    422.000000   \n",
            "25%      200.000000     39.000000      2.000000    766.000000   \n",
            "50%      365.000000     51.000000      5.000000    825.000000   \n",
            "75%      366.000000     63.000000      8.000000    856.000000   \n",
            "max      366.000000    103.000000     19.000000    900.000000   \n",
            "\n",
            "       Annual.miles.drive  Years.noclaims     Territory  Annual.pct.driven  \\\n",
            "count        80022.000000    80022.000000  80022.000000       80022.000000   \n",
            "mean          9112.841099       28.843755     56.472945           0.503362   \n",
            "std           3815.257408       16.127834     24.052233           0.299431   \n",
            "min              0.000000        0.000000     11.000000           0.002740   \n",
            "25%           6213.710000       15.000000     35.000000           0.249315   \n",
            "50%           7456.452000       29.000000     62.000000           0.490411   \n",
            "75%          12427.420000       41.000000     78.000000           0.756164   \n",
            "max          56731.172300       79.000000     91.000000           1.000000   \n",
            "\n",
            "       Total.miles.driven  Pct.drive.mon  ...  Left.turn.intensity10  \\\n",
            "count        80022.000000   80022.000000  ...           80022.000000   \n",
            "mean          4836.104662       0.139322  ...             564.669803   \n",
            "std           4546.133547       0.042888  ...           14878.898977   \n",
            "min              0.095298       0.000000  ...               0.000000   \n",
            "25%           1528.929598       0.120854  ...               0.000000   \n",
            "50%           3476.744227       0.137908  ...               3.000000   \n",
            "75%           6786.730979       0.155154  ...              30.000000   \n",
            "max          47282.603936       0.998172  ...          794380.000000   \n",
            "\n",
            "       Left.turn.intensity11  Left.turn.intensity12  Right.turn.intensity08  \\\n",
            "count           80021.000000           80021.000000            80021.000000   \n",
            "mean              495.192025             453.554504              802.364642   \n",
            "std             14354.095429           13863.868833            10428.011266   \n",
            "min                 0.000000               0.000000                0.000000   \n",
            "25%                 0.000000               0.000000               12.000000   \n",
            "50%                 1.000000               0.000000              124.000000   \n",
            "75%                 9.000000               2.000000              682.000000   \n",
            "max            793926.000000          793170.000000           743789.000000   \n",
            "\n",
            "       Right.turn.intensity09  Right.turn.intensity10  Right.turn.intensity11  \\\n",
            "count            80021.000000            80021.000000            80021.000000   \n",
            "mean               523.125380              284.600605              209.441272   \n",
            "std               9427.313633             8159.602380             7798.887624   \n",
            "min                  0.000000                0.000000                0.000000   \n",
            "25%                  3.000000                0.000000                0.000000   \n",
            "50%                 44.000000                7.000000                2.000000   \n",
            "75%                321.000000               81.000000               27.000000   \n",
            "max             743787.000000           743784.000000           743769.000000   \n",
            "\n",
            "       Right.turn.intensity12      NB_Claim     AMT_Claim  \n",
            "count            80021.000000  80021.000000  80021.000000  \n",
            "mean               166.638620      0.045238    136.996528  \n",
            "std               7499.291338      0.218840   1208.416547  \n",
            "min                  0.000000      0.000000      0.000000  \n",
            "25%                  0.000000      0.000000      0.000000  \n",
            "50%                  0.000000      0.000000      0.000000  \n",
            "75%                  9.000000      0.000000      0.000000  \n",
            "max             743741.000000      3.000000  54301.710938  \n",
            "\n",
            "[8 rows x 48 columns]\n"
          ]
        }
      ]
    },
    {
      "cell_type": "markdown",
      "source": [
        "# Step 2: Handle Missing Values\n"
      ],
      "metadata": {
        "id": "SqE_QCnCZMLN"
      }
    },
    {
      "cell_type": "code",
      "source": [
        "# Drop the single row with missing values\n",
        "data.dropna(inplace=True)"
      ],
      "metadata": {
        "id": "TgLJ1BeTZK-J"
      },
      "execution_count": 8,
      "outputs": []
    },
    {
      "cell_type": "markdown",
      "source": [
        "## Step 2.1. Fix Invalid Car.age\n"
      ],
      "metadata": {
        "id": "zIDu7X-jZVkR"
      }
    },
    {
      "cell_type": "code",
      "source": [
        "# Replace negative values with 0 (assuming data entry error)\n",
        "data['Car.age'] = data['Car.age'].clip(lower=0)"
      ],
      "metadata": {
        "id": "jZuExg4OZSSy"
      },
      "execution_count": 9,
      "outputs": []
    },
    {
      "cell_type": "markdown",
      "source": [
        "# 3. Encode Categorical Variables\n"
      ],
      "metadata": {
        "id": "Zc9rcNUBaEt2"
      }
    },
    {
      "cell_type": "code",
      "source": [
        "# One-hot encode categorical features\n",
        "cat_cols = ['Insured.sex', 'Marital', 'Car.use', 'Region']\n",
        "data = pd.get_dummies(data, columns=cat_cols, drop_first=True)"
      ],
      "metadata": {
        "id": "OD8oTuU_aFze"
      },
      "execution_count": 10,
      "outputs": []
    },
    {
      "cell_type": "markdown",
      "source": [
        "# 4. Separate Features & Target\n"
      ],
      "metadata": {
        "id": "GoOc9_HWaNDM"
      }
    }
  ]
}